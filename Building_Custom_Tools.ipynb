{
 "cells": [
  {
   "cell_type": "code",
   "execution_count": 1,
   "id": "0e1b7771-6f0f-4925-8baf-beffbd25fe31",
   "metadata": {},
   "outputs": [],
   "source": [
    "from langchain_openai import ChatOpenAI\n",
    "from langchain.chains.conversation.memory import ConversationBufferWindowMemory"
   ]
  },
  {
   "cell_type": "code",
   "execution_count": 51,
   "id": "db99909c-6e51-4d12-8b94-56abcd0013f9",
   "metadata": {},
   "outputs": [],
   "source": [
    "import os, getpass\n",
    "from dotenv import load_dotenv\n",
    "load_dotenv()\n",
    "\n",
    "OPENAI_API_KEY = os.environ[\"OPENAI_API_KEY\"]\n",
    "PINECONE_INDEX_NAME = os.environ[\"PINECONE_INDEX_NAME\"]\n",
    "REVIEW_INDEX = 'reviews'\n",
    "\n",
    "llm = ChatOpenAI(\n",
    "    temperature=0,\n",
    "    model_name='gpt-3.5-turbo'\n",
    ")"
   ]
  },
  {
   "cell_type": "code",
   "execution_count": 11,
   "id": "0254493b-3c0b-4dfb-baed-38cd2afd2ac2",
   "metadata": {},
   "outputs": [],
   "source": [
    "from langchain_community.tools import DuckDuckGoSearchRun\n",
    "from langchain.tools import Tool\n",
    "from langchain.tools import BaseTool"
   ]
  },
  {
   "cell_type": "code",
   "execution_count": 13,
   "id": "2fb59f31-021e-482c-bb69-48d2bce9e82e",
   "metadata": {},
   "outputs": [],
   "source": [
    "search = DuckDuckGoSearchRun()\n",
    "\n",
    "tools = [\n",
    "    Tool(\n",
    "        name=\"structure_content\",\n",
    "        func=search.run,\n",
    "        description=\"useful for when you need to structure course content into different headings and subcompotents to help students create a holistic overview of course material and concepts\"\n",
    "    )\n",
    "]"
   ]
  },
  {
   "cell_type": "code",
   "execution_count": 16,
   "id": "424076c6-a9f4-4306-b721-70c2739c6f9f",
   "metadata": {},
   "outputs": [],
   "source": [
    "def meaning_of_life(input=\"\"):\n",
    "    return 'The meaning of life is 42 if rounded but is actually 42.17658'\n",
    "\n",
    "life_tool = Tool(\n",
    "    name=\"Meaning of Life\",\n",
    "    func=meaning_of_life,\n",
    "    description=\"Useful for when you need to answer questions about the meaning of life. input should be MOL\"\n",
    "    )"
   ]
  },
  {
   "cell_type": "code",
   "execution_count": 17,
   "id": "76b7e89d-eea2-4d8c-9998-a61101804d03",
   "metadata": {},
   "outputs": [],
   "source": [
    "import random\n",
    "\n",
    "def random_num(input=\"\"):\n",
    "    return random.randint(0,5)"
   ]
  },
  {
   "cell_type": "code",
   "execution_count": 18,
   "id": "172fd6d1-c034-4340-9c82-19a93a9caae1",
   "metadata": {},
   "outputs": [],
   "source": [
    "random_tool = Tool(\n",
    "    name='Random number',\n",
    "    func= random_num,\n",
    "    description=\"Useful for when you need to get a random number. input should be 'random'\"\n",
    ")"
   ]
  },
  {
   "cell_type": "code",
   "execution_count": 19,
   "id": "39e16317-7d49-4e06-9605-a75f8cc2765b",
   "metadata": {},
   "outputs": [
    {
     "name": "stderr",
     "output_type": "stream",
     "text": [
      "C:\\Users\\Schalk\\anaconda3\\envs\\sandbox1\\Lib\\site-packages\\langchain_core\\_api\\deprecation.py:119: LangChainDeprecationWarning: The function `initialize_agent` was deprecated in LangChain 0.1.0 and will be removed in 0.3.0. Use Use new agent constructor methods like create_react_agent, create_json_agent, create_structured_chat_agent, etc. instead.\n",
      "  warn_deprecated(\n"
     ]
    }
   ],
   "source": [
    "from langchain.agents import initialize_agent\n",
    "\n",
    "tools = [search, random_tool, life_tool]\n",
    "\n",
    "# conversational agent memory\n",
    "memory = ConversationBufferWindowMemory(\n",
    "    memory_key='chat_history',\n",
    "    k=3,\n",
    "    return_messages=True\n",
    ")\n",
    "\n",
    "\n",
    "# create our agent\n",
    "conversational_agent = initialize_agent(\n",
    "    agent='chat-conversational-react-description',\n",
    "    tools=tools,\n",
    "    llm=llm,\n",
    "    verbose=True,\n",
    "    max_iterations=3,\n",
    "    early_stopping_method='generate',\n",
    "    memory=memory\n",
    ")"
   ]
  },
  {
   "cell_type": "code",
   "execution_count": 39,
   "id": "e179cd01-7820-49ec-89bb-7cdb78c48633",
   "metadata": {},
   "outputs": [],
   "source": [
    "#conversational_agent(\"What time is it in London?\")"
   ]
  },
  {
   "cell_type": "code",
   "execution_count": 22,
   "id": "986b0530-8b6a-471b-be73-0a0de17fe2a9",
   "metadata": {},
   "outputs": [],
   "source": [
    "from langchain import hub\n",
    "prompt = hub.pull(\"hwchase17/react\")"
   ]
  },
  {
   "cell_type": "code",
   "execution_count": 26,
   "id": "60cb539c-4bf9-4ba0-bb3f-f615d9b30216",
   "metadata": {},
   "outputs": [],
   "source": [
    "GPLACES_API_KEY =os.environ[\"GPLACES_API_KEY\"] "
   ]
  },
  {
   "cell_type": "code",
   "execution_count": 30,
   "id": "473fd611-369d-4b69-8805-392e55b3c1ec",
   "metadata": {},
   "outputs": [],
   "source": [
    "from langchain_google_community import GooglePlacesTool"
   ]
  },
  {
   "cell_type": "code",
   "execution_count": 32,
   "id": "b4e11b77-8618-445e-9dad-1026443e820b",
   "metadata": {},
   "outputs": [],
   "source": [
    "places = GooglePlacesTool()"
   ]
  },
  {
   "cell_type": "code",
   "execution_count": 38,
   "id": "d64ce29c-466e-4685-9e5f-fc121988f505",
   "metadata": {},
   "outputs": [
    {
     "data": {
      "text/plain": [
       "'1. Rust en Vrede Wine Estate\\nAddress: Annandale Rd, Stellenbosch, 7600, South Africa\\nGoogle place ID: ChIJJejU6OKxzR0RO5WAGlKasYg\\nPhone: 021 881 3881\\nWebsite: http://rustenvrede.com/\\n\\n'"
      ]
     },
     "execution_count": 38,
     "metadata": {},
     "output_type": "execute_result"
    }
   ],
   "source": [
    "places.run(\"Rust en Vrede\")"
   ]
  },
  {
   "cell_type": "code",
   "execution_count": 42,
   "id": "76cd32bf-64e4-4a6d-ad21-40be1c46c881",
   "metadata": {},
   "outputs": [],
   "source": [
    "from langchain_community.tools.tavily_search import TavilySearchResults"
   ]
  },
  {
   "cell_type": "code",
   "execution_count": 43,
   "id": "78846b16-5cd5-4259-b744-1a515ab93d0f",
   "metadata": {},
   "outputs": [],
   "source": [
    "TAVILY_API_KEY = os.environ[\"TAVILY_API_KEY\"]"
   ]
  },
  {
   "cell_type": "code",
   "execution_count": 44,
   "id": "e172d0ef-057a-4a0b-a844-b20b4a396b43",
   "metadata": {},
   "outputs": [],
   "source": [
    "look_for = TavilySearchResults(max_results=2)"
   ]
  },
  {
   "cell_type": "code",
   "execution_count": 48,
   "id": "7c544fff-7aa0-414b-8feb-6c05fa280c91",
   "metadata": {},
   "outputs": [],
   "source": [
    "#look_for.invoke(\"what are aliens?\")"
   ]
  },
  {
   "cell_type": "code",
   "execution_count": 52,
   "id": "5dc1bc6a-5fa5-4b76-bc0d-7147f7bc5e9f",
   "metadata": {},
   "outputs": [],
   "source": [
    "from langchain_pinecone import PineconeVectorStore\n",
    "from langchain_openai import OpenAIEmbeddings\n",
    "\n",
    "model_name = 'text-embedding-ada-002'  \n",
    "embeddings = OpenAIEmbeddings(  \n",
    "    model=model_name,  \n",
    "    openai_api_key=OPENAI_API_KEY\n",
    ")\n",
    "\n",
    "vectorstore_reviews = PineconeVectorStore(index_name=REVIEW_INDEX, embedding=embeddings)\n",
    "retriever_reviews = vectorstore_reviews.as_retriever()"
   ]
  },
  {
   "cell_type": "code",
   "execution_count": 54,
   "id": "0be16229-97f8-4a62-afbc-2621f2ce05a1",
   "metadata": {},
   "outputs": [
    {
     "data": {
      "text/plain": [
       "[Document(page_content='have any toilet, but the drink was good and they have spaces to sit.', metadata={'address': '67 Main Street, Brooklyn', 'name': 'Starbucks', 'place_id': 'ChIJrY4KOzFawokRDCaABlBimbM', 'review_time': '2024-03-16T06:32:36'}),\n",
       " Document(page_content='worst place ever and rude waitress.', metadata={'address': '146 Beekman Street, New York', 'name': 'Fresh Salt', 'place_id': 'ChIJN8ko6jxawokRh4mOVeF82dg', 'review_time': '2024-05-18T12:09:26'}),\n",
       " Document(page_content='place is overpriced for mediocre food and horrible service. We will never return.', metadata={'address': '200 Clinton Street, Brooklyn', 'name': 'Atlantic Bagels Cafe', 'place_id': 'ChIJO0J-fE9awokRvCs8n1y90eA', 'review_time': '2024-04-24T16:21:14'}),\n",
       " Document(page_content='at this location definitely do. Thank you, thank you, thank you!', metadata={'address': 'Fulton Mall, 348 Fulton Street, Brooklyn', 'name': 'Starbucks', 'place_id': 'ChIJFbie-UtawokRr6eHiB7eBoU', 'review_time': '2023-05-06T11:09:41'})]"
      ]
     },
     "execution_count": 54,
     "metadata": {},
     "output_type": "execute_result"
    }
   ],
   "source": [
    "retriever_reviews.invoke(\"whats the worst coffee spot near me\")"
   ]
  },
  {
   "cell_type": "code",
   "execution_count": 55,
   "id": "e9506cb7-eebc-45a4-a382-a61ed308c274",
   "metadata": {},
   "outputs": [],
   "source": [
    "from langchain.tools.retriever import create_retriever_tool"
   ]
  },
  {
   "cell_type": "code",
   "execution_count": 75,
   "id": "6388ed03-7e2c-4258-b693-6f2c866b240f",
   "metadata": {},
   "outputs": [],
   "source": [
    "retriever_tool = create_retriever_tool(\n",
    "    retriever_reviews,\n",
    "    \"google_reviews\",\n",
    "    \"When making recommendations about food and drinks spots, you must use this tool to find reviews!\",\n",
    ")"
   ]
  },
  {
   "cell_type": "code",
   "execution_count": 81,
   "id": "6a0f9df4-b402-4d1e-b044-9c5158e83e4c",
   "metadata": {},
   "outputs": [],
   "source": [
    "tools = [look_for, retriever_tool]"
   ]
  },
  {
   "cell_type": "code",
   "execution_count": 82,
   "id": "a0858c4d-7a6a-42d3-bf4a-594ee308269e",
   "metadata": {},
   "outputs": [
    {
     "data": {
      "text/plain": [
       "'Hello! How can I assist you today?'"
      ]
     },
     "execution_count": 82,
     "metadata": {},
     "output_type": "execute_result"
    }
   ],
   "source": [
    "from langchain_core.messages import HumanMessage\n",
    "\n",
    "response = llm.invoke([HumanMessage(content=\"hi!\")])\n",
    "response.content"
   ]
  },
  {
   "cell_type": "code",
   "execution_count": 83,
   "id": "0d11e3f8-5f32-445a-baa1-660da8f95fd6",
   "metadata": {},
   "outputs": [],
   "source": [
    "model_with_tools = llm.bind_tools(tools)"
   ]
  },
  {
   "cell_type": "code",
   "execution_count": 85,
   "id": "a98526bd-9097-4823-8b50-7759dd74a4ef",
   "metadata": {},
   "outputs": [
    {
     "name": "stdout",
     "output_type": "stream",
     "text": [
      "ContentString: Hello! How can I assist you today?\n",
      "ToolCalls: []\n"
     ]
    }
   ],
   "source": [
    "response = model_with_tools.invoke([HumanMessage(content=\"Hi!\")])\n",
    "\n",
    "print(f\"ContentString: {response.content}\")\n",
    "print(f\"ToolCalls: {response.tool_calls}\")"
   ]
  },
  {
   "cell_type": "code",
   "execution_count": 87,
   "id": "bb053a02-270f-44a1-ab22-c9cb1e5f7c68",
   "metadata": {},
   "outputs": [
    {
     "name": "stdout",
     "output_type": "stream",
     "text": [
      "ContentString: \n",
      "ToolCalls: [{'name': 'google_reviews', 'args': {'query': 'best coffee shops near me'}, 'id': 'call_Ml2xOtCQ8elQAuLplZqyerFi'}]\n"
     ]
    }
   ],
   "source": [
    "response = model_with_tools.invoke([HumanMessage(content=\"Where should i get coffee?\")])\n",
    "\n",
    "print(f\"ContentString: {response.content}\")\n",
    "print(f\"ToolCalls: {response.tool_calls}\")"
   ]
  },
  {
   "cell_type": "code",
   "execution_count": 88,
   "id": "3eea619a-937c-4a58-8f7f-b5d1c0eff043",
   "metadata": {},
   "outputs": [
    {
     "data": {
      "text/plain": [
       "[SystemMessagePromptTemplate(prompt=PromptTemplate(input_variables=[], template='You are a helpful assistant')),\n",
       " MessagesPlaceholder(variable_name='chat_history', optional=True),\n",
       " HumanMessagePromptTemplate(prompt=PromptTemplate(input_variables=['input'], template='{input}')),\n",
       " MessagesPlaceholder(variable_name='agent_scratchpad')]"
      ]
     },
     "execution_count": 88,
     "metadata": {},
     "output_type": "execute_result"
    }
   ],
   "source": [
    "from langchain import hub\n",
    "\n",
    "# Get the prompt to use - you can modify this!\n",
    "prompt = hub.pull(\"hwchase17/openai-functions-agent\")\n",
    "prompt.messages"
   ]
  },
  {
   "cell_type": "code",
   "execution_count": 96,
   "id": "1ba19adf-b220-4abb-be83-86b1e0e44ba7",
   "metadata": {},
   "outputs": [],
   "source": [
    "from langchain.agents import create_tool_calling_agent, AgentExecutor\n",
    "\n",
    "agent = create_tool_calling_agent(llm, tools, prompt)"
   ]
  },
  {
   "cell_type": "code",
   "execution_count": 95,
   "id": "bc96e796-538c-40fa-9f8e-03d8adcb042a",
   "metadata": {},
   "outputs": [],
   "source": [
    "#help(create_tool_calling_agent)"
   ]
  },
  {
   "cell_type": "code",
   "execution_count": 97,
   "id": "59e771c4-b202-41d9-9ff8-5fd5237dc147",
   "metadata": {},
   "outputs": [],
   "source": [
    "agent_executor = AgentExecutor(agent=agent, tools=tools)"
   ]
  },
  {
   "cell_type": "code",
   "execution_count": 98,
   "id": "63bac0bf-1dd5-4d25-b5a0-df6215a69d84",
   "metadata": {},
   "outputs": [
    {
     "data": {
      "text/plain": [
       "{'input': 'hi!', 'output': 'Hello! How can I assist you today?'}"
      ]
     },
     "execution_count": 98,
     "metadata": {},
     "output_type": "execute_result"
    }
   ],
   "source": [
    "agent_executor.invoke({\"input\": \"hi!\"})"
   ]
  },
  {
   "cell_type": "code",
   "execution_count": 99,
   "id": "3806ca6d-cbbf-41e5-a46f-8da59f804db4",
   "metadata": {},
   "outputs": [
    {
     "data": {
      "text/plain": [
       "{'input': 'where should i get coffee in brooklyn',\n",
       " 'output': \"I found some reviews for coffee shops in Brooklyn. Here are a few options based on the reviews:\\n\\n1. Worth Walking To\\n2. Really Friendly and Welcoming\\n3. Breakfast Menu the Next Time We're in Town\\n4. Feels Like a Little Slice of Mayberry\\n\\nThese coffee shops seem to have positive reviews and could be great options for you to try in Brooklyn.\"}"
      ]
     },
     "execution_count": 99,
     "metadata": {},
     "output_type": "execute_result"
    }
   ],
   "source": [
    "agent_executor.invoke({\"input\": \"where should i get coffee in brooklyn\"})"
   ]
  },
  {
   "cell_type": "code",
   "execution_count": 102,
   "id": "104c4eb0-0a66-457e-a694-f43d81d5dd3f",
   "metadata": {},
   "outputs": [
    {
     "data": {
      "text/plain": [
       "{'input': 'who won the most recent NBA season',\n",
       " 'output': 'The most recent NBA season winner was the Milwaukee Bucks in 2021.'}"
      ]
     },
     "execution_count": 102,
     "metadata": {},
     "output_type": "execute_result"
    }
   ],
   "source": [
    "agent_executor.invoke({\"input\": \"who won the most recent NBA season\"})"
   ]
  },
  {
   "cell_type": "code",
   "execution_count": 103,
   "id": "da4cf75b-f885-4a75-9235-0990ff2e5220",
   "metadata": {},
   "outputs": [
    {
     "data": {
      "text/plain": [
       "{'input': 'hi! my name is bob',\n",
       " 'chat_history': [],\n",
       " 'output': 'Hello Bob! How can I assist you today?'}"
      ]
     },
     "execution_count": 103,
     "metadata": {},
     "output_type": "execute_result"
    }
   ],
   "source": [
    "# Here we pass in an empty list of messages for chat_history because it is the first message in the chat\n",
    "agent_executor.invoke({\"input\": \"hi! my name is bob\", \"chat_history\": []})"
   ]
  },
  {
   "cell_type": "code",
   "execution_count": 104,
   "id": "8f1e8792-af32-45fa-9e8e-08d5de67454f",
   "metadata": {},
   "outputs": [],
   "source": [
    "from langchain_core.messages import AIMessage, HumanMessage"
   ]
  },
  {
   "cell_type": "code",
   "execution_count": 105,
   "id": "ec4240bb-4140-472f-8bc9-414131b0fc8b",
   "metadata": {},
   "outputs": [
    {
     "data": {
      "text/plain": [
       "{'chat_history': [HumanMessage(content='hi! my name is bob'),\n",
       "  AIMessage(content='Hello Bob! How can I assist you today?')],\n",
       " 'input': \"what's my name?\",\n",
       " 'output': 'Your name is Bob! How can I assist you, Bob?'}"
      ]
     },
     "execution_count": 105,
     "metadata": {},
     "output_type": "execute_result"
    }
   ],
   "source": [
    "agent_executor.invoke(\n",
    "    {\n",
    "        \"chat_history\": [\n",
    "            HumanMessage(content=\"hi! my name is bob\"),\n",
    "            AIMessage(content=\"Hello Bob! How can I assist you today?\"),\n",
    "        ],\n",
    "        \"input\": \"what's my name?\",\n",
    "    }\n",
    ")"
   ]
  },
  {
   "cell_type": "code",
   "execution_count": 106,
   "id": "cdb45d57-608e-415e-954b-c9d70021f425",
   "metadata": {},
   "outputs": [],
   "source": [
    "from langchain_community.chat_message_histories import ChatMessageHistory\n",
    "from langchain_core.chat_history import BaseChatMessageHistory\n",
    "from langchain_core.runnables.history import RunnableWithMessageHistory\n",
    "\n",
    "store = {}\n",
    "\n",
    "\n",
    "def get_session_history(session_id: str) -> BaseChatMessageHistory:\n",
    "    if session_id not in store:\n",
    "        store[session_id] = ChatMessageHistory()\n",
    "    return store[session_id]"
   ]
  },
  {
   "cell_type": "code",
   "execution_count": 107,
   "id": "5f2936ce-1c77-4617-aae1-6e30f6e2bf86",
   "metadata": {},
   "outputs": [],
   "source": [
    "agent_with_chat_history = RunnableWithMessageHistory(\n",
    "    agent_executor,\n",
    "    get_session_history,\n",
    "    input_messages_key=\"input\",\n",
    "    history_messages_key=\"chat_history\",\n",
    ")"
   ]
  },
  {
   "cell_type": "code",
   "execution_count": 108,
   "id": "8e46aa3d-61db-4233-8204-36c6be6f6a8b",
   "metadata": {},
   "outputs": [
    {
     "data": {
      "text/plain": [
       "{'input': \"hi! I'm bob\",\n",
       " 'chat_history': [],\n",
       " 'output': 'Hello Bob! How can I assist you today?'}"
      ]
     },
     "execution_count": 108,
     "metadata": {},
     "output_type": "execute_result"
    }
   ],
   "source": [
    "agent_with_chat_history.invoke(\n",
    "    {\"input\": \"hi! I'm bob\"},\n",
    "    config={\"configurable\": {\"session_id\": \"<foo>\"}},\n",
    ")"
   ]
  },
  {
   "cell_type": "code",
   "execution_count": 109,
   "id": "5e9fe121-1ae2-46fb-a45d-0ac31f07be2a",
   "metadata": {},
   "outputs": [
    {
     "data": {
      "text/plain": [
       "{'input': \"what's my name?\",\n",
       " 'chat_history': [HumanMessage(content=\"hi! I'm bob\"),\n",
       "  AIMessage(content='Hello Bob! How can I assist you today?')],\n",
       " 'output': 'Your name is Bob! How can I help you, Bob?'}"
      ]
     },
     "execution_count": 109,
     "metadata": {},
     "output_type": "execute_result"
    }
   ],
   "source": [
    "agent_with_chat_history.invoke(\n",
    "    {\"input\": \"what's my name?\"},\n",
    "    config={\"configurable\": {\"session_id\": \"<foo>\"}},\n",
    ")"
   ]
  }
 ],
 "metadata": {
  "kernelspec": {
   "display_name": "Python 3 (ipykernel)",
   "language": "python",
   "name": "python3"
  },
  "language_info": {
   "codemirror_mode": {
    "name": "ipython",
    "version": 3
   },
   "file_extension": ".py",
   "mimetype": "text/x-python",
   "name": "python",
   "nbconvert_exporter": "python",
   "pygments_lexer": "ipython3",
   "version": "3.11.9"
  }
 },
 "nbformat": 4,
 "nbformat_minor": 5
}
