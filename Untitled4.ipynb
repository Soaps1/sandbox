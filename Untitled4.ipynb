{
 "cells": [
  {
   "cell_type": "code",
   "execution_count": 5,
   "id": "e27c4608-5433-440c-b889-86a4070086d9",
   "metadata": {},
   "outputs": [],
   "source": [
    "import os, getpass\n",
    "from dotenv import load_dotenv\n",
    "\n",
    "load_dotenv()\n",
    "\n",
    "\n",
    "OPENAI_API_KEY = os.environ[\"OPENAI_API_KEY\"]\n",
    "PINECONE_API_KEY = os.environ[\"PINECONE_API_KEY\"]\n",
    "PINECONE_INDEX_NAME = 'reviews'"
   ]
  },
  {
   "cell_type": "code",
   "execution_count": 6,
   "id": "903adc03-169a-4f8e-87a9-c0d6310c4ada",
   "metadata": {},
   "outputs": [],
   "source": [
    "from langchain_openai import ChatOpenAI\n",
    "from langchain_openai import OpenAIEmbeddings\n",
    "from langchain_pinecone import PineconeVectorStore\n",
    "\n",
    "llm = ChatOpenAI(model_name=\"gpt-3.5-turbo-0125\")\n",
    "embeddings = OpenAIEmbeddings(  \n",
    "    model='text-embedding-ada-002',  \n",
    "    openai_api_key=OPENAI_API_KEY\n",
    ")\n",
    "\n",
    "vectorstore = PineconeVectorStore(PINECONE_INDEX_NAME, embeddings)"
   ]
  },
  {
   "cell_type": "code",
   "execution_count": 7,
   "id": "5fb4efd5-29ca-4b49-9624-45065d9166d6",
   "metadata": {},
   "outputs": [],
   "source": [
    "vectorstore_reviews = PineconeVectorStore(index_name=PINECONE_INDEX_NAME, embedding=embeddings)\n",
    "retriever_reviews = vectorstore_reviews.as_retriever()"
   ]
  },
  {
   "cell_type": "code",
   "execution_count": 8,
   "id": "34f4773d-3d58-4343-aa35-090cb5707440",
   "metadata": {},
   "outputs": [
    {
     "data": {
      "text/plain": [
       "[]"
      ]
     },
     "execution_count": 8,
     "metadata": {},
     "output_type": "execute_result"
    }
   ],
   "source": [
    "query = \"place with good city views\"\n",
    "names = [\n",
    "    \"230 Fifth Rooftop\"\n",
    "]\n",
    "\n",
    "\n",
    "\n",
    "vectorstore_reviews.similarity_search(\n",
    "    query,\n",
    "    filter={\n",
    "    \"name\":{\"$in\":names}},\n",
    "    k=1\n",
    ")"
   ]
  }
 ],
 "metadata": {
  "kernelspec": {
   "display_name": "Python 3 (ipykernel)",
   "language": "python",
   "name": "python3"
  },
  "language_info": {
   "codemirror_mode": {
    "name": "ipython",
    "version": 3
   },
   "file_extension": ".py",
   "mimetype": "text/x-python",
   "name": "python",
   "nbconvert_exporter": "python",
   "pygments_lexer": "ipython3",
   "version": "3.11.9"
  }
 },
 "nbformat": 4,
 "nbformat_minor": 5
}
