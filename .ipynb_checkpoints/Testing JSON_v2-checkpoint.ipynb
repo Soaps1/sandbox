{
 "cells": [
  {
   "cell_type": "code",
   "execution_count": 2,
   "id": "b48e5d4a-12df-48de-b472-7bf0c71f9a79",
   "metadata": {},
   "outputs": [
    {
     "name": "stdout",
     "output_type": "stream",
     "text": [
      "C:\\Users\\Schalk\\anaconda3\\envs\\sandbox1\n"
     ]
    }
   ],
   "source": [
    "import sys\n",
    "print(sys.prefix)"
   ]
  },
  {
   "cell_type": "code",
   "execution_count": 3,
   "id": "4c42a6a4-033b-408a-99b3-320bd7d58dc5",
   "metadata": {},
   "outputs": [],
   "source": [
    "from langchain_community.document_loaders import PyPDFLoader\n",
    "from langchain_community.document_loaders import TextLoader\n",
    "from langchain.text_splitter import RecursiveCharacterTextSplitter\n",
    "import os, getpass"
   ]
  },
  {
   "cell_type": "code",
   "execution_count": 4,
   "id": "f954bfec-8bd1-41de-9996-84dd2c68259c",
   "metadata": {},
   "outputs": [],
   "source": [
    "from dotenv import load_dotenv\n",
    "load_dotenv()\n",
    "\n",
    "PINECONE_API_KEY = os.environ[\"PINECONE_API_KEY\"]\n",
    "OPENAI_API_KEY = os.environ[\"OPENAI_API_KEY\"]\n",
    "PINECONE_INDEX_NAME = os.environ[\"PINECONE_INDEX_NAME\"]"
   ]
  },
  {
   "cell_type": "code",
   "execution_count": 5,
   "id": "421ad837-5f70-4d4d-9b8a-764eaffb4d02",
   "metadata": {},
   "outputs": [
    {
     "name": "stdout",
     "output_type": "stream",
     "text": [
      "Text: I did take out a slice of maroon and green tea crepe cake. So far, it was the most satisfying dessert in NYC to me (Magnolia and Junior's were not my favourite). LOVED Marron as it is full of chestnut flavour. Green tea cake also had a very strong matcha flavour, so it was also great. Crepes taste a bit eggy though. As most of you know, 'it is not too sweet' is the best compliment to a dessert in Asian culture. It was flavorful, fluffy, and not too sweet. Will visit before I leave NYC!\n",
      "\n",
      "* edit: I stopped by again today. The champagne cake had a hint of strawberry flavour, and the top gelatine jelly added great texture to it. The Pistachio cake had a great flavour- natural pistachio flavour. I felt like both champagne and pistachio were a bit sweeter than other flavours. Tiramisu had a strong coffee flavour, and it was the sweetest among other flavours.\n",
      "\n",
      "My favourites were Marron > Champagne > Pitstahcio/Matcha > Tiramisu\n",
      "Metadata: {'place_id': 'ChIJaa5WhqpZwokR50T7bRHRxXk', 'name': 'Lady M Cake Boutique - New York City', 'address': '36 West 40th Street, New York', 'review_time': '2024-01-06T23:48:51'}\n",
      "Text: The best slice of pizza I've had in NYC! The crust is perfect - crispy on the outside and chewy on the inside. The sauce is tangy and flavorful, and the cheese is perfectly melted. I had the classic Margherita and it was divine. Highly recommend this place for anyone looking for an authentic NYC pizza experience.\n",
      "\n",
      "I also tried their pepperoni slice, which was equally impressive. The pepperoni was crispy and not too greasy, adding a nice spice to the slice. Can't wait to go back!\n",
      "Metadata: {'place_id': 'ChIJjbj4Y9SZwokRxT3m0XrQuX0', 'name': \"Joe's Pizza - New York City\", 'address': '7 Carmine Street, New York', 'review_time': '2024-01-07T12:30:45'}\n"
     ]
    }
   ],
   "source": [
    "from langchain.schema import Document\n",
    "import json\n",
    "\n",
    "# Suppose your JSON data is in a variable called json_data\n",
    "json_data = '''\n",
    "[\n",
    "  {\n",
    "    \"place_id\": \"ChIJaa5WhqpZwokR50T7bRHRxXk\",\n",
    "    \"name\": \"Lady M Cake Boutique - New York City\",\n",
    "    \"address\": \"36 West 40th Street, New York\",\n",
    "    \"review_text\": \"I did take out a slice of maroon and green tea crepe cake. So far, it was the most satisfying dessert in NYC to me (Magnolia and Junior's were not my favourite). LOVED Marron as it is full of chestnut flavour. Green tea cake also had a very strong matcha flavour, so it was also great. Crepes taste a bit eggy though. As most of you know, 'it is not too sweet' is the best compliment to a dessert in Asian culture. It was flavorful, fluffy, and not too sweet. Will visit before I leave NYC!\\\\n\\\\n* edit: I stopped by again today. The champagne cake had a hint of strawberry flavour, and the top gelatine jelly added great texture to it. The Pistachio cake had a great flavour- natural pistachio flavour. I felt like both champagne and pistachio were a bit sweeter than other flavours. Tiramisu had a strong coffee flavour, and it was the sweetest among other flavours.\\\\n\\\\nMy favourites were Marron > Champagne > Pitstahcio/Matcha > Tiramisu\",\n",
    "    \"review_time\": \"2024-01-06T23:48:51\"\n",
    "  },\n",
    "  {\n",
    "    \"place_id\": \"ChIJjbj4Y9SZwokRxT3m0XrQuX0\",\n",
    "    \"name\": \"Joe's Pizza - New York City\",\n",
    "    \"address\": \"7 Carmine Street, New York\",\n",
    "    \"review_text\": \"The best slice of pizza I've had in NYC! The crust is perfect - crispy on the outside and chewy on the inside. The sauce is tangy and flavorful, and the cheese is perfectly melted. I had the classic Margherita and it was divine. Highly recommend this place for anyone looking for an authentic NYC pizza experience.\\\\n\\\\nI also tried their pepperoni slice, which was equally impressive. The pepperoni was crispy and not too greasy, adding a nice spice to the slice. Can't wait to go back!\",\n",
    "    \"review_time\": \"2024-01-07T12:30:45\"\n",
    "  }\n",
    "]\n",
    "'''\n",
    "\n",
    "# Parse the JSON data\n",
    "parsed_json_data = json.loads(json_data)\n",
    "\n",
    "# Create a Document object for each review, including metadata\n",
    "documents = []\n",
    "for item in parsed_json_data:\n",
    "    review_text = item.pop('review_text')\n",
    "    metadata = item  # The remaining attributes will be used as metadata\n",
    "    document = Document(page_content=review_text, metadata=metadata)\n",
    "    documents.append(document)\n",
    "\n",
    "# Now you can use these documents as needed\n",
    "for doc in documents:\n",
    "    print(f\"Text: {doc.page_content}\")\n",
    "    print(f\"Metadata: {doc.metadata}\")\n"
   ]
  }
 ],
 "metadata": {
  "kernelspec": {
   "display_name": "Python 3 (ipykernel)",
   "language": "python",
   "name": "python3"
  },
  "language_info": {
   "codemirror_mode": {
    "name": "ipython",
    "version": 3
   },
   "file_extension": ".py",
   "mimetype": "text/x-python",
   "name": "python",
   "nbconvert_exporter": "python",
   "pygments_lexer": "ipython3",
   "version": "3.11.9"
  }
 },
 "nbformat": 4,
 "nbformat_minor": 5
}
