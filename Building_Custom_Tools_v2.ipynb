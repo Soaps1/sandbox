{
 "cells": [
  {
   "cell_type": "code",
   "execution_count": 2,
   "id": "2768fd3e-04cd-4085-a956-382afbcf7798",
   "metadata": {},
   "outputs": [],
   "source": [
    "from langchain_openai import ChatOpenAI\n",
    "import os, getpass\n",
    "from dotenv import load_dotenv\n",
    "load_dotenv()\n",
    "\n",
    "OPENAI_API_KEY = os.environ[\"OPENAI_API_KEY\"]\n",
    "PINECONE_INDEX_NAME = os.environ[\"PINECONE_INDEX_NAME\"]\n",
    "REVIEW_INDEX = 'reviews'\n",
    "\n",
    "llm = ChatOpenAI(\n",
    "    temperature=0,\n",
    "    model_name='gpt-3.5-turbo'\n",
    ")"
   ]
  },
  {
   "cell_type": "code",
   "execution_count": 3,
   "id": "e59d76d6-fcf0-43f2-952f-53c7d638752e",
   "metadata": {},
   "outputs": [],
   "source": [
    "from bs4 import BeautifulSoup\n",
    "import requests\n",
    "\n",
    "def stripped_webpage(webpage):\n",
    "    response = requests.get(webpage)\n",
    "    html_content = response.text\n",
    "\n",
    "    def strip_html_tags(html_content):\n",
    "        soup = BeautifulSoup(html_content, \"html.parser\")\n",
    "        stripped_text = soup.get_text()\n",
    "        return stripped_text\n",
    "\n",
    "    stripped_content = strip_html_tags(html_content)\n",
    "\n",
    "    if len(stripped_content) > 4000:\n",
    "        stripped_content = stripped_content[:4000]\n",
    "    return stripped_content\n"
   ]
  },
  {
   "cell_type": "code",
   "execution_count": 5,
   "id": "b3a632e7-45cf-40fb-b8a5-6bb0fe69bb04",
   "metadata": {},
   "outputs": [
    {
     "data": {
      "text/plain": [
       "'Just a moment...Enable JavaScript and cookies to continue'"
      ]
     },
     "execution_count": 5,
     "metadata": {},
     "output_type": "execute_result"
    }
   ],
   "source": [
    "stripped_webpage('https://courses.business.columbia.edu/')"
   ]
  }
 ],
 "metadata": {
  "kernelspec": {
   "display_name": "Python 3 (ipykernel)",
   "language": "python",
   "name": "python3"
  },
  "language_info": {
   "codemirror_mode": {
    "name": "ipython",
    "version": 3
   },
   "file_extension": ".py",
   "mimetype": "text/x-python",
   "name": "python",
   "nbconvert_exporter": "python",
   "pygments_lexer": "ipython3",
   "version": "3.11.9"
  }
 },
 "nbformat": 4,
 "nbformat_minor": 5
}
