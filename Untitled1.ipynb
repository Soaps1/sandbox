{
 "cells": [
  {
   "cell_type": "code",
   "execution_count": 11,
   "id": "0ab4cbfb-d551-4c2a-9f03-9db74a47b65e",
   "metadata": {},
   "outputs": [
    {
     "ename": "TimeoutException",
     "evalue": "Message: \nStacktrace:\n\tGetHandleVerifier [0x00BEC1C3+27395]\n\t(No symbol) [0x00B83DC4]\n\t(No symbol) [0x00A81B7F]\n\t(No symbol) [0x00AC2C65]\n\t(No symbol) [0x00AC2D3B]\n\t(No symbol) [0x00AFEC82]\n\t(No symbol) [0x00AE39E4]\n\t(No symbol) [0x00AFCB24]\n\t(No symbol) [0x00AE3736]\n\t(No symbol) [0x00AB7541]\n\t(No symbol) [0x00AB80BD]\n\tGetHandleVerifier [0x00EA3A93+2876371]\n\tGetHandleVerifier [0x00EF7F5D+3221661]\n\tGetHandleVerifier [0x00C6D634+556916]\n\tGetHandleVerifier [0x00C7474C+585868]\n\t(No symbol) [0x00B8CE04]\n\t(No symbol) [0x00B89818]\n\t(No symbol) [0x00B899B7]\n\t(No symbol) [0x00B7BF0E]\n\tBaseThreadInitThunk [0x76A3FCC9+25]\n\tRtlGetAppContainerNamedObjectPath [0x774580CE+286]\n\tRtlGetAppContainerNamedObjectPath [0x7745809E+238]\n",
     "output_type": "error",
     "traceback": [
      "\u001b[1;31m---------------------------------------------------------------------------\u001b[0m",
      "\u001b[1;31mTimeoutException\u001b[0m                          Traceback (most recent call last)",
      "Cell \u001b[1;32mIn[11], line 27\u001b[0m\n\u001b[0;32m     24\u001b[0m driver\u001b[38;5;241m.\u001b[39mget(\u001b[38;5;124m\"\u001b[39m\u001b[38;5;124mhttps://resy.com/login\u001b[39m\u001b[38;5;124m\"\u001b[39m)\n\u001b[0;32m     26\u001b[0m \u001b[38;5;66;03m# Enter username\u001b[39;00m\n\u001b[1;32m---> 27\u001b[0m email_input \u001b[38;5;241m=\u001b[39m \u001b[43mwait\u001b[49m\u001b[38;5;241;43m.\u001b[39;49m\u001b[43muntil\u001b[49m\u001b[43m(\u001b[49m\u001b[43mEC\u001b[49m\u001b[38;5;241;43m.\u001b[39;49m\u001b[43mpresence_of_element_located\u001b[49m\u001b[43m(\u001b[49m\u001b[43m(\u001b[49m\u001b[43mBy\u001b[49m\u001b[38;5;241;43m.\u001b[39;49m\u001b[43mNAME\u001b[49m\u001b[43m,\u001b[49m\u001b[43m \u001b[49m\u001b[38;5;124;43m\"\u001b[39;49m\u001b[38;5;124;43memail\u001b[39;49m\u001b[38;5;124;43m\"\u001b[39;49m\u001b[43m)\u001b[49m\u001b[43m)\u001b[49m\u001b[43m)\u001b[49m\n\u001b[0;32m     28\u001b[0m email_input\u001b[38;5;241m.\u001b[39msend_keys(username)\n\u001b[0;32m     30\u001b[0m \u001b[38;5;66;03m# Enter password\u001b[39;00m\n",
      "File \u001b[1;32m~\\anaconda3\\envs\\sandbox1\\Lib\\site-packages\\selenium\\webdriver\\support\\wait.py:105\u001b[0m, in \u001b[0;36mWebDriverWait.until\u001b[1;34m(self, method, message)\u001b[0m\n\u001b[0;32m    103\u001b[0m     \u001b[38;5;28;01mif\u001b[39;00m time\u001b[38;5;241m.\u001b[39mmonotonic() \u001b[38;5;241m>\u001b[39m end_time:\n\u001b[0;32m    104\u001b[0m         \u001b[38;5;28;01mbreak\u001b[39;00m\n\u001b[1;32m--> 105\u001b[0m \u001b[38;5;28;01mraise\u001b[39;00m TimeoutException(message, screen, stacktrace)\n",
      "\u001b[1;31mTimeoutException\u001b[0m: Message: \nStacktrace:\n\tGetHandleVerifier [0x00BEC1C3+27395]\n\t(No symbol) [0x00B83DC4]\n\t(No symbol) [0x00A81B7F]\n\t(No symbol) [0x00AC2C65]\n\t(No symbol) [0x00AC2D3B]\n\t(No symbol) [0x00AFEC82]\n\t(No symbol) [0x00AE39E4]\n\t(No symbol) [0x00AFCB24]\n\t(No symbol) [0x00AE3736]\n\t(No symbol) [0x00AB7541]\n\t(No symbol) [0x00AB80BD]\n\tGetHandleVerifier [0x00EA3A93+2876371]\n\tGetHandleVerifier [0x00EF7F5D+3221661]\n\tGetHandleVerifier [0x00C6D634+556916]\n\tGetHandleVerifier [0x00C7474C+585868]\n\t(No symbol) [0x00B8CE04]\n\t(No symbol) [0x00B89818]\n\t(No symbol) [0x00B899B7]\n\t(No symbol) [0x00B7BF0E]\n\tBaseThreadInitThunk [0x76A3FCC9+25]\n\tRtlGetAppContainerNamedObjectPath [0x774580CE+286]\n\tRtlGetAppContainerNamedObjectPath [0x7745809E+238]\n"
     ]
    }
   ],
   "source": [
    "from selenium import webdriver\n",
    "from selenium.webdriver.chrome.service import Service as ChromeService\n",
    "from selenium.webdriver.common.by import By\n",
    "from selenium.webdriver.support.ui import WebDriverWait\n",
    "from selenium.webdriver.support import expected_conditions as EC\n",
    "from selenium.webdriver.common.keys import Keys\n",
    "from webdriver_manager.chrome import ChromeDriverManager\n",
    "\n",
    "# Your login details\n",
    "username = \"schalk25burger@gmail.com\"\n",
    "password = \"bartinYzero5!\"\n",
    "\n",
    "# Reservation details\n",
    "reservation_url = \"https://resy.com/cities/new-york-ny/venues/holywater?date=2024-07-19&seats=2\"\n",
    "reservation_times = [\"8:00 PM\", \"8:15 PM\", \"8:30 PM\", \"8:45 PM\", \"9:00 PM\", \"9:15 PM\", \"9:30 PM\", \"9:45 PM\", \"10:00 PM\"]\n",
    "\n",
    "# Set up the Selenium driver\n",
    "service = ChromeService(executable_path=ChromeDriverManager().install())\n",
    "driver = webdriver.Chrome(service=service)\n",
    "wait = WebDriverWait(driver, 10)\n",
    "\n",
    "try:\n",
    "    # Open the Resy login page\n",
    "    driver.get(\"https://resy.com/login\")\n",
    "\n",
    "    # Enter username\n",
    "    email_input = wait.until(EC.presence_of_element_located((By.NAME, \"email\")))\n",
    "    email_input.send_keys(username)\n",
    "\n",
    "    # Enter password\n",
    "    password_input = driver.find_element(By.NAME, \"password\")\n",
    "    password_input.send_keys(password)\n",
    "    password_input.send_keys(Keys.RETURN)\n",
    "\n",
    "    # Wait until login is complete and redirected\n",
    "    wait.until(EC.url_contains(\"resy.com\"))\n",
    "\n",
    "    # Open the reservation page\n",
    "    driver.get(reservation_url)\n",
    "\n",
    "    # Select the reservation time\n",
    "    for time in reservation_times:\n",
    "        try:\n",
    "            time_slot = wait.until(EC.presence_of_element_located((By.XPATH, f\"//div[text()='{time}']\")))\n",
    "            time_slot.click()\n",
    "            break\n",
    "        except:\n",
    "            continue\n",
    "\n",
    "    # Complete the reservation\n",
    "    complete_button = wait.until(EC.presence_of_element_located((By.XPATH, \"//button[text()='Complete Reservation']\")))\n",
    "    complete_button.click()\n",
    "\n",
    "    # Since your card is already saved, we do not need to re-enter card details\n",
    "    reserve_button = wait.until(EC.presence_of_element_located((By.XPATH, \"//button[text()='Reserve Now']\")))\n",
    "    reserve_button.click()\n",
    "\n",
    "finally:\n",
    "    # Close the driver\n",
    "    driver.quit()"
   ]
  }
 ],
 "metadata": {
  "kernelspec": {
   "display_name": "Python 3 (ipykernel)",
   "language": "python",
   "name": "python3"
  },
  "language_info": {
   "codemirror_mode": {
    "name": "ipython",
    "version": 3
   },
   "file_extension": ".py",
   "mimetype": "text/x-python",
   "name": "python",
   "nbconvert_exporter": "python",
   "pygments_lexer": "ipython3",
   "version": "3.11.9"
  }
 },
 "nbformat": 4,
 "nbformat_minor": 5
}
