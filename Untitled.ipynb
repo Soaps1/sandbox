{
 "cells": [
  {
   "cell_type": "code",
   "execution_count": 2,
   "id": "33bb77df-4ae9-47bf-a50c-a0b04bc596c4",
   "metadata": {},
   "outputs": [],
   "source": [
    "from langchain_community.document_loaders import PyPDFLoader\n",
    "from langchain_community.document_loaders import TextLoader\n",
    "from langchain.text_splitter import RecursiveCharacterTextSplitter\n",
    "import os, getpass"
   ]
  },
  {
   "cell_type": "code",
   "execution_count": 3,
   "id": "00759d5a-2be7-4e4e-8bb7-d1d0c9e21a2d",
   "metadata": {},
   "outputs": [],
   "source": [
    "from dotenv import load_dotenv\n",
    "load_dotenv()\n",
    "\n",
    "PINECONE_API_KEY = os.environ[\"PINECONE_API_KEY\"]\n",
    "OPENAI_API_KEY = os.environ[\"OPENAI_API_KEY\"]\n",
    "PINECONE_INDEX_NAME = os.environ[\"PINECONE_INDEX_NAME\"]"
   ]
  },
  {
   "cell_type": "code",
   "execution_count": 4,
   "id": "d70563c9-ef64-48ea-9733-2b650608373b",
   "metadata": {},
   "outputs": [],
   "source": [
    "from langchain_openai import ChatOpenAI"
   ]
  },
  {
   "cell_type": "code",
   "execution_count": 12,
   "id": "8740a585-90c5-4641-a135-ed11408bad51",
   "metadata": {},
   "outputs": [],
   "source": [
    "chat = ChatOpenAI(model_name=\"gpt-3.5-turbo-0125\", temperature=0.3)"
   ]
  },
  {
   "cell_type": "code",
   "execution_count": 13,
   "id": "3c3141c7-d807-4dbb-8400-90cd2e2ade85",
   "metadata": {},
   "outputs": [
    {
     "data": {
      "text/plain": [
       "AIMessage(content='This is subjective and can vary depending on personal opinions. Some of the greatest golfers of all time include Tiger Woods, Jack Nicklaus, Arnold Palmer, and Sam Snead, among others. Each of these players has achieved great success in their careers and has left a lasting impact on the sport of golf.', response_metadata={'token_usage': {'completion_tokens': 62, 'prompt_tokens': 14, 'total_tokens': 76}, 'model_name': 'gpt-3.5-turbo-0125', 'system_fingerprint': None, 'finish_reason': 'stop', 'logprobs': None}, id='run-dba6b969-1d91-4529-87fe-ddace0bfb81a-0', usage_metadata={'input_tokens': 14, 'output_tokens': 62, 'total_tokens': 76})"
      ]
     },
     "execution_count": 13,
     "metadata": {},
     "output_type": "execute_result"
    }
   ],
   "source": [
    "llm.invoke(\"who is the best golfer?\")"
   ]
  },
  {
   "cell_type": "code",
   "execution_count": 11,
   "id": "d122b7fa-1b3b-403d-9854-42936fa43ecd",
   "metadata": {},
   "outputs": [],
   "source": [
    "from langchain.schema import(\n",
    "    AIMessage,\n",
    "    HumanMessage,\n",
    "    SystemMessage,\n",
    ")"
   ]
  },
  {
   "cell_type": "code",
   "execution_count": 20,
   "id": "5a603e86-898b-46b2-b475-8e6a52dfc48e",
   "metadata": {},
   "outputs": [],
   "source": [
    "from langchain import PromptTemplate\n",
    "\n",
    "template = \"\"\"\n",
    "You are an expert at musician. Your favorite genres are pop punk and classic rock.\n",
    "Provide your opinion on {genre} music\n",
    "\"\"\"\n",
    "\n",
    "prompt = PromptTemplate(\n",
    "    input_variables=[\"genre\"],\n",
    "    template=template\n",
    ")"
   ]
  },
  {
   "cell_type": "code",
   "execution_count": 21,
   "id": "c170127c-c7d1-41de-82ba-0c555a2b1824",
   "metadata": {},
   "outputs": [
    {
     "data": {
      "text/plain": [
       "PromptTemplate(input_variables=['genre'], template='\\nYou are an expert at musician. Your favorite genres are pop punk and classic rock.\\nProvide your opinion on {genre} music\\n')"
      ]
     },
     "execution_count": 21,
     "metadata": {},
     "output_type": "execute_result"
    }
   ],
   "source": [
    "prompt"
   ]
  },
  {
   "cell_type": "code",
   "execution_count": 25,
   "id": "362ff341-2de2-42de-9a86-ba0413971765",
   "metadata": {},
   "outputs": [
    {
     "data": {
      "text/plain": [
       "AIMessage(content='Pop punk music is a genre that I absolutely love. I think it combines the catchy melodies and energy of pop music with the raw attitude and emotion of punk rock. The lyrics often touch on themes of growing up, relationships, and personal struggles, which I find very relatable and powerful. Bands like Blink-182, Green Day, and Paramore have really shaped the genre and created some iconic songs that have stood the test of time. Overall, I think pop punk music is a fun and cathartic genre that continues to resonate with listeners of all ages.', response_metadata={'token_usage': {'completion_tokens': 112, 'prompt_tokens': 33, 'total_tokens': 145}, 'model_name': 'gpt-3.5-turbo-0125', 'system_fingerprint': None, 'finish_reason': 'stop', 'logprobs': None}, id='run-8ab71a97-1f29-4565-8d06-27b1b94858bb-0', usage_metadata={'input_tokens': 33, 'output_tokens': 112, 'total_tokens': 145})"
      ]
     },
     "execution_count": 25,
     "metadata": {},
     "output_type": "execute_result"
    }
   ],
   "source": [
    "llm.invoke(prompt.format(genre=\"pop punk\"))"
   ]
  },
  {
   "cell_type": "code",
   "execution_count": 34,
   "id": "dadc7933-62a4-4f38-a289-f7b5402b4b1c",
   "metadata": {},
   "outputs": [],
   "source": [
    "from langchain_core.runnables import RunnableParallel, RunnablePassthrough, RunnableLambda, RunnableSequence"
   ]
  },
  {
   "cell_type": "code",
   "execution_count": 35,
   "id": "11fb1e18-8629-4094-a8f9-c263be3ba4a9",
   "metadata": {},
   "outputs": [
    {
     "ename": "TypeError",
     "evalue": "RunnableSequence.__init__() got an unexpected keyword argument 'llm'",
     "output_type": "error",
     "traceback": [
      "\u001b[1;31m---------------------------------------------------------------------------\u001b[0m",
      "\u001b[1;31mTypeError\u001b[0m                                 Traceback (most recent call last)",
      "Cell \u001b[1;32mIn[35], line 2\u001b[0m\n\u001b[0;32m      1\u001b[0m chain\u001b[38;5;241m=\u001b[39m(\n\u001b[1;32m----> 2\u001b[0m     \u001b[43mRunnableSequence\u001b[49m\u001b[43m(\u001b[49m\u001b[43mllm\u001b[49m\u001b[38;5;241;43m=\u001b[39;49m\u001b[43mllm\u001b[49m\u001b[43m,\u001b[49m\u001b[43m \u001b[49m\u001b[43mprompt\u001b[49m\u001b[38;5;241;43m=\u001b[39;49m\u001b[43mprompt\u001b[49m\u001b[43m)\u001b[49m\n\u001b[0;32m      3\u001b[0m )\n",
      "\u001b[1;31mTypeError\u001b[0m: RunnableSequence.__init__() got an unexpected keyword argument 'llm'"
     ]
    }
   ],
   "source": [
    "chain=(\n",
    "    RunnableParallel(\n",
    ")"
   ]
  },
  {
   "cell_type": "code",
   "execution_count": 32,
   "id": "989797f9-e3c8-49b3-bad6-b04e2812c332",
   "metadata": {},
   "outputs": [
    {
     "name": "stdout",
     "output_type": "stream",
     "text": [
      "{'llm': AIMessage(content='Classic rock is a genre of rock music that emerged in the late 1960s and 1970s. It is characterized by a sound that is often influenced by blues, folk, and country music, and typically features electric guitars, drums, and strong vocals. Some of the most famous classic rock bands include The Beatles, Led Zeppelin, The Rolling Stones, and Pink Floyd. Classic rock continues to be popular today, with many radio stations and music streaming services dedicated to playing this genre.', response_metadata={'token_usage': {'completion_tokens': 100, 'prompt_tokens': 9, 'total_tokens': 109}, 'model_name': 'gpt-3.5-turbo-0125', 'system_fingerprint': None, 'finish_reason': 'stop', 'logprobs': None}, id='run-779a24f7-12e7-40db-9b2e-facc579700eb-0', usage_metadata={'input_tokens': 9, 'output_tokens': 100, 'total_tokens': 109}), 'prompt': StringPromptValue(text='\\nYou are an expert at musician. Your favorite genres are pop punk and classic rock.\\nProvide your opinion on classic rock music\\n')}\n"
     ]
    }
   ],
   "source": [
    "print(chain.invoke(\"classic rock\"))"
   ]
  }
 ],
 "metadata": {
  "kernelspec": {
   "display_name": "Python 3 (ipykernel)",
   "language": "python",
   "name": "python3"
  },
  "language_info": {
   "codemirror_mode": {
    "name": "ipython",
    "version": 3
   },
   "file_extension": ".py",
   "mimetype": "text/x-python",
   "name": "python",
   "nbconvert_exporter": "python",
   "pygments_lexer": "ipython3",
   "version": "3.11.9"
  }
 },
 "nbformat": 4,
 "nbformat_minor": 5
}
